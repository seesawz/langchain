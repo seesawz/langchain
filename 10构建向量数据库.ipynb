{
 "cells": [
  {
   "cell_type": "code",
   "execution_count": 13,
   "metadata": {},
   "outputs": [],
   "source": [
    "import { TextLoader } from \"langchain/document_loaders/fs/text\";\n",
    "import { RecursiveCharacterTextSplitter } from \"langchain/text_splitter\";\n",
    "const loader = new TextLoader(\"data/kong.txt\")\n",
    "const docs = await loader.load()\n"
   ]
  },
  {
   "cell_type": "code",
   "execution_count": 14,
   "metadata": {},
   "outputs": [],
   "source": [
    "const splitter = new RecursiveCharacterTextSplitter({\n",
    "   /*  \n",
    "   //经过多次实验大家都认为这个参数是最好的\n",
    "    chunkSize: 1000,\n",
    "    chunkOverlap: 100,\n",
    "     */\n",
    "    chunkSize: 100,\n",
    "    chunkOverlap: 20,\n",
    "})\n",
    "\n",
    "const splitDocs = await splitter.splitDocuments(docs)\n"
   ]
  },
  {
   "cell_type": "code",
   "execution_count": 17,
   "metadata": {},
   "outputs": [],
   "source": [
    "import { load } from \"dotenv\";\n",
    "import { OpenAIEmbeddings } from \"@langchain/openai\";\n",
    "const env = await load();\n",
    "\n",
    "const process = {\n",
    "    env\n",
    "}\n",
    "\n",
    "\n",
    "const embeddings = new OpenAIEmbeddings()\n",
    "//在 embedding 的时候，模型关注的就是 pageContent，并不会关心 metadata 的部分，\n",
    "\n",
    "const res = await embeddings.embedQuery(splitDocs[0].pageContent)\n",
    "console.log({res});\n",
    "\n"
   ]
  }
 ],
 "metadata": {
  "kernelspec": {
   "display_name": "Deno",
   "language": "typescript",
   "name": "deno"
  },
  "language_info": {
   "codemirror_mode": "typescript",
   "file_extension": ".ts",
   "mimetype": "text/x.typescript",
   "name": "typescript",
   "nbconvert_exporter": "script",
   "pygments_lexer": "typescript",
   "version": "5.4.5"
  }
 },
 "nbformat": 4,
 "nbformat_minor": 2
}
