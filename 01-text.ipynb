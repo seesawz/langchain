{
 "cells": [
  {
   "cell_type": "markdown",
   "metadata": {},
   "source": [
    "什么是LCEL\n",
    "    从原型到生产，完整流程不需要修改任何代码，也就是我们在写的任何原型\n",
    "    代码不需要太多的改变就能支持生产级别的各种特性比如并行 streaming等，具体会有这些优势\n",
    "     * 自动并行\n",
    "     * 自动重试和fallback\n",
    "     * 对chain中间结果的访问\n",
    "     * LCEL会自动支持LangSimith进行可视化和记录，可以记录一条chain运行过程中的大部分信息"
   ]
  },
  {
   "cell_type": "markdown",
   "metadata": {},
   "source": [
    " 一条chain组成的每个模块都是继承自Runnable这个接口，而每一条chain也是继承自这个接口，所以一条Chain也可以很自然的成为另一个Chain的一个模块\n",
    " 并且所有的Runable都有相同的调用方式,所以我们在写Chain的时候就可以自由组合多个Runnable的模块来形成复杂的Chain"
   ]
  },
  {
   "cell_type": "markdown",
   "metadata": {},
   "source": [
    "*   invoke 基础的调用，并传入参数\n",
    "*   batch 批量调用，输入一组参数\n",
    "*   stream 调用，并以stream流的方式返回数据\n",
    "*   stremLog 除了像stream流一样返回数据，并会返回中间的运行结果"
   ]
  },
  {
   "cell_type": "code",
   "execution_count": 7,
   "metadata": {},
   "outputs": [
    {
     "name": "stdout",
     "output_type": "stream",
     "text": [
      "\n",
      "Why\n",
      " couldn\n",
      "'t\n",
      " the\n",
      " bicycle\n",
      " stand\n",
      " up\n",
      " by\n",
      " itself\n",
      "?\n",
      "\n",
      "\n",
      "Because\n",
      " it\n",
      " was\n",
      " two\n",
      "-t\n",
      "ired\n",
      "!\n",
      "\n"
     ]
    }
   ],
   "source": [
    "import { load } from \"https://deno.land/std@0.223.0/dotenv/mod.ts\";\n",
    "import { ChatOpenAI } from \"@langchain/openai\";\n",
    "import { HumanMessage } from \"@langchain/core/messages\";\n",
    "import { StringOutputParser } from \"@langchain/core/output_parsers\";\n",
    "\n",
    "const env = await load();\n",
    "\n",
    "const process = {\n",
    "    env\n",
    "}\n",
    "\n",
    "\n",
    "const chatModel = new ChatOpenAI({\n",
    "    model:'gpt-3.5-turbo',\n",
    "    configuration:{\n",
    "        baseURL: \"https://ai.nvtnet.net/v1\",\n",
    "    }\n",
    "});\n",
    "\n",
    "const outputParse = new StringOutputParser();\n",
    "\n",
    "//用pipe组成一个最基本的chain\n",
    "const simpleChain = chatModel.pipe(outputParse);\n",
    "\n",
    "// const res = await simpleChain.invoke(\n",
    "//    [ new HumanMessage(\"tell me a joke\")]\n",
    "// )\n",
    "\n",
    "const stream = await simpleChain.stream([\n",
    "    new HumanMessage(\"Tell me a joke\")\n",
    "])\n",
    "\n",
    "for await (const chunk of stream){\n",
    "   console.log(chunk)\n",
    "}"
   ]
  },
  {
   "cell_type": "markdown",
   "metadata": {},
   "source": [
    "在 LCEL 中，使用 .pipe() 方法来组装多个 Runnable 对象形成完整的 Chain，可以看到我们是用对单个模块同样的 invoke 方法去调用整个 chain。 因为无论是单个模块还是由模块组装而成的多个 chain 都是 Runnable"
   ]
  },
  {
   "cell_type": "code",
   "execution_count": null,
   "metadata": {},
   "outputs": [],
   "source": []
  }
 ],
 "metadata": {
  "kernelspec": {
   "display_name": "Deno",
   "language": "typescript",
   "name": "deno"
  },
  "language_info": {
   "codemirror_mode": "typescript",
   "file_extension": ".ts",
   "mimetype": "text/x.typescript",
   "name": "typescript",
   "nbconvert_exporter": "script",
   "pygments_lexer": "typescript",
   "version": "5.4.5"
  }
 },
 "nbformat": 4,
 "nbformat_minor": 2
}
