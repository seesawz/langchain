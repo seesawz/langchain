{
 "cells": [
  {
   "cell_type": "markdown",
   "metadata": {},
   "source": [
    "PromptTemplate是帮助我们定义一个包含变量的字符串模板，我们可以通过向该类的对象输入不同的变量值来生成模板渲染的结果，意思就是在运行时可以根据用户的输入有确定的输出。"
   ]
  },
  {
   "cell_type": "code",
   "execution_count": 1,
   "metadata": {},
   "outputs": [
    {
     "name": "stdout",
     "output_type": "stream",
     "text": [
      "Hello, World!\n"
     ]
    }
   ],
   "source": [
    "//不含变量的template\n",
    "import { PromptTemplate } from \"@langchain/core/prompts\";\n",
    "\n",
    "const greetingPrompt = new PromptTemplate({\n",
    "    inputVariables:[],\n",
    "    template:\"Hello, World!\"\n",
    "})\n",
    "\n",
    "const formattedGreetingPrompt = await greetingPrompt.format();\n",
    "\n",
    "console.log(formattedGreetingPrompt);\n"
   ]
  },
  {
   "cell_type": "markdown",
   "metadata": {},
   "source": [
    "调用promptTemplate的方式就是format，因为我们没有任何变量，也就没有任何参数\n"
   ]
  },
  {
   "cell_type": "code",
   "execution_count": 2,
   "metadata": {},
   "outputs": [
    {
     "name": "stdout",
     "output_type": "stream",
     "text": [
      "hello，TH {name}\n"
     ]
    }
   ],
   "source": [
    "//含变量的template\n",
    "\n",
    "const personalizedGreetingPrompt = new PromptTemplate({\n",
    "    inputVariables: [\"name\"],\n",
    "    //如果需要{}或者{{}}，需要转义\n",
    "    template: \"hello，{name} {{name}}\",\n",
    "  });\n",
    "  const formattedPersonalizedGreeting = await personalizedGreetingPrompt.format({\n",
    "    name: \"TH\",\n",
    "  });\n",
    "  \n",
    "  console.log(formattedPersonalizedGreeting);"
   ]
  },
  {
   "cell_type": "code",
   "execution_count": 3,
   "metadata": {},
   "outputs": [
    {
     "name": "stdout",
     "output_type": "stream",
     "text": [
      "good TG\n"
     ]
    }
   ],
   "source": [
    "//langchain也提供了简便的创建方式\n",
    "import { PromptTemplate } from \"@langchain/core/prompts\";\n",
    "const autoInferTemplate = PromptTemplate.fromTemplate(\"good {name}\")\n",
    "console.log(autoInferTemplate.inputVariables);\n",
    "\n",
    "const format = await autoInferTemplate.format({\n",
    "    name:\"TG\"\n",
    "})\n",
    "\n",
    "console.log(format);\n",
    "\n"
   ]
  },
  {
   "cell_type": "markdown",
   "metadata": {},
   "source": [
    "在工程中，我们可能先获得某个参数，之后才能获得另一个参数"
   ]
  },
  {
   "cell_type": "code",
   "execution_count": 4,
   "metadata": {},
   "outputs": [
    {
     "name": "stdout",
     "output_type": "stream",
     "text": [
      "这是一个工具 他是锤子\n"
     ]
    }
   ],
   "source": [
    "import { PromptTemplate } from \"@langchain/core/prompts\";\n",
    "\n",
    "const initialPrompt = new PromptTemplate({\n",
    "    template:\"这是一个{type} 他是{item}\",\n",
    "    inputVariables:[\"type\",\"item\"]\n",
    "})\n",
    "\n",
    "const partialedPrompt = await initialPrompt.partial({\n",
    "    type:\"工具\"\n",
    "})\n",
    "\n",
    "const formattedPrompt = await partialedPrompt.format({\n",
    "    item:'锤子'\n",
    "})\n",
    "\n",
    "console.log(formattedPrompt);\n",
    "\n",
    "\n",
    "\n"
   ]
  },
  {
   "cell_type": "markdown",
   "metadata": {},
   "source": [
    "### 使用动态填充参数\n",
    "当我们需要，一个prompt template被format时，实时地动态生成参数时，我们可以使用函数来对template部分参数进行指定。"
   ]
  },
  {
   "cell_type": "code",
   "execution_count": 5,
   "metadata": {},
   "outputs": [
    {
     "name": "stdout",
     "output_type": "stream",
     "text": [
      "今天是6/8/2024，我们去爬山。\n"
     ]
    }
   ],
   "source": [
    "const getCurrentDateStr = () => {\n",
    "    return new Date().toLocaleDateString();\n",
    "  };\n",
    "  \n",
    "  const promptWithDate = new PromptTemplate({\n",
    "    template: \"今天是{date}，{activity}。\",\n",
    "    inputVariables: [\"date\", \"activity\"],\n",
    "  });\n",
    "  \n",
    "  const partialedPromptWithDate = await promptWithDate.partial({\n",
    "    date: getCurrentDateStr,\n",
    "  });\n",
    "  \n",
    "  const formattedPromptWithDate = await partialedPromptWithDate.format({\n",
    "    activity: \"我们去爬山\",\n",
    "  });\n",
    "  \n",
    "  console.log(formattedPromptWithDate);\n",
    "  // 输出: 今天是2023/7/13，我们去爬山。\n",
    "  "
   ]
  },
  {
   "cell_type": "markdown",
   "metadata": {},
   "source": [
    "注意，函数 getCurrentDateStr 是在 format 被调用的时候实时运行的，也就是可以在被渲染成字符串时获取到最新的外部信息。 目前这里不支持传入参数，如果需要参数，可以用 js 的闭包进行参数的传递。"
   ]
  },
  {
   "cell_type": "code",
   "execution_count": 6,
   "metadata": {},
   "outputs": [
    {
     "name": "stdout",
     "output_type": "stream",
     "text": [
      "6/8/2024 下午好!\n"
     ]
    }
   ],
   "source": [
    "const getCurrentDateStr = () => {\n",
    "    return new Date().toLocaleDateString();\n",
    "  };\n",
    "  \n",
    "  function generateGreeting(timeOfDay) {\n",
    "    return () => {\n",
    "      const date = getCurrentDateStr()\n",
    "      switch (timeOfDay) {\n",
    "        case 'morning':\n",
    "          return date + ' 早上好';\n",
    "        case 'afternoon':\n",
    "          return date + ' 下午好';\n",
    "        case 'evening':\n",
    "          return date + ' 晚上好';\n",
    "        default:\n",
    "          return date + ' 你好';\n",
    "      }\n",
    "    };\n",
    "  }\n",
    "  \n",
    "  const prompt = new PromptTemplate({\n",
    "    template: \"{greeting}!\",\n",
    "    inputVariables: [\"greeting\"],\n",
    "  });\n",
    "  \n",
    "  const currentTimeOfDay = 'afternoon';\n",
    "  const partialPrompt = await prompt.partial({\n",
    "    greeting: generateGreeting(currentTimeOfDay),\n",
    "  });\n",
    "  \n",
    "  const formattedPrompt = await partialPrompt.format();\n",
    "  \n",
    "  console.log(formattedPrompt);\n",
    "  // 输出: 3/21/2024 下午好!\n",
    "  "
   ]
  },
  {
   "cell_type": "markdown",
   "metadata": {},
   "source": [
    "在跟各种聊天模型交互的时候，在构建聊天信息时，不仅仅包含了像上文中的文本内容，也需要与每条消息关联的角色模型，例如这条信息时由人类、AI、还是给chatbot指定的system信息，这种结构化的消息输入有助于模型更好理解对话的上下文和流程，从而生成更准确、更自然的回应。\n",
    "\n",
    "为了方便的构建和处理这种结构化的聊天消息，langchain提供了几种与聊天相关的提示模板类，如\n",
    " * ChatPromptTemplate\n",
    " * SystemMessagePromptTemplate\n",
    " * AIMessagePromptTemplate\n",
    " * HumanMessagePromptTemplate\n",
    "\n",
    "在openAI的定义中，每一条消息都需要跟一个role关联，标识消息的发送者。角色的概念对于LLM的理解和构建整个对话流程非常重要，相同的内容由不同的role发送出来的意义是不同的\n",
    "\n",
    "* system角色的消息通常用于设置对话的上下文或指定模型采取特定的行为模式，这些消息不会直接显示在对话中，但他们对模型的行为有指导作用，可以理解成模型的元信息，权重非常高，在这里有效的构建prompt能取得非常好的效果\n",
    "\n",
    "* user角色代表真实用户在对话中的发言，这些消息通常是问题，指令或者评论，反映了用户的意图和需求。\n",
    "\n",
    "* assistant角色的消息代表AI模型的回复，这些消息时模型根据system的指示和user的输入生成的\n",
    "\n"
   ]
  },
  {
   "cell_type": "markdown",
   "metadata": {},
   "source": [
    "我们先构建一个system message来给llm指定核心的准则"
   ]
  },
  {
   "cell_type": "code",
   "execution_count": 7,
   "metadata": {},
   "outputs": [
    {
     "name": "stdout",
     "output_type": "stream",
     "text": [
      "System: 你是一个专业的翻译\n",
      "员，你的任务时将文本从中文翻译成英语。\n",
      "Human: 请翻译这句话：你好，世界\n"
     ]
    },
    {
     "data": {
      "text/plain": [
       "\u001b[32m\"Bonjour, monde.\"\u001b[39m"
      ]
     },
     "execution_count": 7,
     "metadata": {},
     "output_type": "execute_result"
    }
   ],
   "source": [
    "import { SystemMessagePromptTemplate } from \"@langchain/core/prompts\";\n",
    "import { HumanMessagePromptTemplate } from \"@langchain/core/prompts\";\n",
    "import { ChatPromptTemplate } from \"@langchain/core/prompts\";\n",
    "\n",
    "import { load } from \"dotenv\";\n",
    "import { ChatOpenAI } from \"@langchain/openai\";\n",
    "import { StringOutputParser } from \"@langchain/core/output_parsers\";\n",
    "\n",
    "const translateInstructionTemplate = SystemMessagePromptTemplate.fromTemplate(`你是一个专业的翻译\n",
    "员，你的任务时将文本从{source_lang}翻译成{target_lang}。`);\n",
    "\n",
    "//然后构建一个用户输入的信息\n",
    "const userQuestionTemplate = HumanMessagePromptTemplate.fromTemplate(\"请翻译这句话：{text}\")\n",
    "\n",
    "\n",
    "//然后将这两个信息组合起来，形成一个对话信息\n",
    "const chatPrompt = ChatPromptTemplate.fromMessages([\n",
    "  translateInstructionTemplate,\n",
    "  userQuestionTemplate,\n",
    "]);\n",
    "\n",
    "const res = await chatPrompt.format({\n",
    "    source_lang: \"中文\",\n",
    "    target_lang: \"英语\",\n",
    "    text: \"你好，世界\",\n",
    "  });\n",
    "\n",
    "  console.log(res);\n",
    "  \n",
    "\n",
    "//然后我们就可以快速组装起一个简单的 chain 来测试一下\n",
    "const env = await load();\n",
    "const process = {\n",
    "    env\n",
    "}\n",
    "\n",
    "const chatModel = new ChatOpenAI({\n",
    "  model:'gpt-3.5-turbo',\n",
    "  configuration:{\n",
    "      baseURL: \"https://ai.nvtnet.net/v1\",\n",
    "  }\n",
    "}\n",
    ");\n",
    "const outputPraser = new StringOutputParser();\n",
    "\n",
    "const chain = chatPrompt.pipe(chatModel).pipe(outputPraser);\n",
    "\n",
    "await chain.invoke({\n",
    "  source_lang: \"中文\",\n",
    "  target_lang: \"法语\",\n",
    "  text: \"你好，世界\",\n",
    "})\n",
    "// \"Bonjour, le monde\"\n",
    "\n"
   ]
  },
  {
   "cell_type": "markdown",
   "metadata": {},
   "source": [
    "### 组合多个prompt\n",
    "在实际工程中，我们可能会根据多个变量，根据多个外界环境去构造一个很复杂的prompt，这里就是PipelinePromptTemplate 的应用场景，我可以用多个独立的template构建成一个完成且复杂的prompt，这样可以提高独立prompt的复用性，进一步增强模块化带来的优势\n",
    "\n",
    "在PipelinePromptTemplate有2个核心的概念\n",
    "\n",
    "* pipelinePrompts，一组object 每个object标识prompt运行后赋值给name变量\n",
    "* finalPrompt，表示最终输出的prompt"
   ]
  },
  {
   "cell_type": "code",
   "execution_count": 8,
   "metadata": {},
   "outputs": [
    {
     "name": "stdout",
     "output_type": "stream",
     "text": [
      "\n",
      "  你是一个智能管家，今天是 6/8/2024，现在是 早上，你的主人的信息是姓名是 张三, 性别是 male, \n",
      "  根据上下文，完成主人的需求\n",
      "  \n",
      "  我想吃 早上 的 lemon。 \n",
      "  再重复一遍我的信息 姓名是 张三, 性别是 male\n"
     ]
    }
   ],
   "source": [
    "import {\n",
    "    PromptTemplate,\n",
    "    PipelinePromptTemplate,\n",
    "  } from \"@langchain/core/prompts\";\n",
    "  \n",
    "  const getCurrentDateStr = () => {\n",
    "    return new Date().toLocaleDateString();\n",
    "  };\n",
    "  \n",
    "  const fullPrompt = PromptTemplate.fromTemplate(`\n",
    "  你是一个智能管家，今天是 {date}，你的主人的信息是{info}, \n",
    "  根据上下文，完成主人的需求\n",
    "  {task}`);\n",
    "  \n",
    "  const datePrompt = PromptTemplate.fromTemplate(\"{date}，现在是 {period}\")\n",
    "  const periodPrompt = await datePrompt.partial({\n",
    "      date: getCurrentDateStr\n",
    "  })\n",
    "  \n",
    "  const infoPrompt =  PromptTemplate.fromTemplate(\"姓名是 {name}, 性别是 {gender}\");\n",
    "  \n",
    "  const taskPrompt = PromptTemplate.fromTemplate(`\n",
    "  我想吃 {period} 的 {food}。 \n",
    "  再重复一遍我的信息 {info}`);\n",
    "  \n",
    "  const composedPrompt = new PipelinePromptTemplate({\n",
    "    pipelinePrompts: [\n",
    "      {\n",
    "        name: \"date\",\n",
    "        prompt: periodPrompt,\n",
    "      },\n",
    "      {\n",
    "        name: \"info\",\n",
    "        prompt: infoPrompt,\n",
    "      },\n",
    "      {\n",
    "        name: \"task\",\n",
    "        prompt: taskPrompt,\n",
    "      },\n",
    "    ],\n",
    "    finalPrompt: fullPrompt,\n",
    "  });\n",
    "  \n",
    "  const formattedPrompt = await composedPrompt.format({\n",
    "      period: \"早上\",\n",
    "      name: \"张三\",\n",
    "      gender: \"male\",\n",
    "      food: \"lemon\"\n",
    "  });\n",
    "  \n",
    "  console.log(formattedPrompt)\n",
    "  "
   ]
  },
  {
   "cell_type": "markdown",
   "metadata": {},
   "source": [
    "一个变量可以多次复用，例如外界输入的 period 在 periodPrompt 和 taskPrompt 都被使用了\n",
    "pipelinePrompts 中的变量可以被引用，例如我们在 taskPrompt 使用了 infoPrompt 的运行结果\n",
    "支持动态自定义和 partial。例子中我们也涉及到了这两种特殊的 template\n",
    "langchain 会自动分析 pipeline 之间的依赖关系，尽可能的进行并行化来提高运行速度\n",
    "有了 pipelinePrompts 我们可以极大程度的复用和管理我们的 prompt template，从而让 llm app 的开发更加工程化。"
   ]
  }
 ],
 "metadata": {
  "kernelspec": {
   "display_name": "Deno",
   "language": "typescript",
   "name": "deno"
  },
  "language_info": {
   "codemirror_mode": "typescript",
   "file_extension": ".ts",
   "mimetype": "text/x.typescript",
   "name": "typescript",
   "nbconvert_exporter": "script",
   "pygments_lexer": "typescript",
   "version": "5.4.5"
  }
 },
 "nbformat": 4,
 "nbformat_minor": 2
}
